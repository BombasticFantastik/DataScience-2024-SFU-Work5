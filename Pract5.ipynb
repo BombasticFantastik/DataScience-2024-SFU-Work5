{
 "cells": [
  {
   "cell_type": "code",
   "execution_count": 1,
   "id": "30c73182-c521-4f34-9767-b5915cd79f91",
   "metadata": {},
   "outputs": [],
   "source": [
    "import numpy as np"
   ]
  },
  {
   "cell_type": "code",
   "execution_count": 8,
   "id": "54c46c23-dfd5-4822-b692-4d198fdc1dd4",
   "metadata": {},
   "outputs": [],
   "source": [
    "norm_data=np.random.normal(size=1000)\n",
    "exp_data=np.random.exponential(size=1000)\n",
    "uni_data=np.random.uniform(size=1000)\n",
    "geom_data=np.random.geometric(0.5,size=1000)"
   ]
  },
  {
   "cell_type": "code",
   "execution_count": 11,
   "id": "8b99402e-9071-486e-9785-9b6cfb06ca4e",
   "metadata": {},
   "outputs": [
    {
     "data": {
      "text/plain": [
       "np.float64(0.489274860616116)"
      ]
     },
     "execution_count": 11,
     "metadata": {},
     "output_type": "execute_result"
    }
   ],
   "source": [
    "uni_data.mean()"
   ]
  },
  {
   "cell_type": "code",
   "execution_count": null,
   "id": "d0a4eb5c-bbed-4e6f-ba9d-52f8d1793e59",
   "metadata": {},
   "outputs": [],
   "source": []
  }
 ],
 "metadata": {
  "kernelspec": {
   "display_name": "Python 3 (ipykernel)",
   "language": "python",
   "name": "python3"
  },
  "language_info": {
   "codemirror_mode": {
    "name": "ipython",
    "version": 3
   },
   "file_extension": ".py",
   "mimetype": "text/x-python",
   "name": "python",
   "nbconvert_exporter": "python",
   "pygments_lexer": "ipython3",
   "version": "3.13.1"
  }
 },
 "nbformat": 4,
 "nbformat_minor": 5
}
